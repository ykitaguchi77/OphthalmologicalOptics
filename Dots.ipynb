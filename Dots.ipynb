{
  "nbformat": 4,
  "nbformat_minor": 0,
  "metadata": {
    "colab": {
      "provenance": [],
      "authorship_tag": "ABX9TyN1nJsRUinpttsm/A+lePfM",
      "include_colab_link": true
    },
    "kernelspec": {
      "name": "python3",
      "display_name": "Python 3"
    },
    "language_info": {
      "name": "python"
    }
  },
  "cells": [
    {
      "cell_type": "markdown",
      "metadata": {
        "id": "view-in-github",
        "colab_type": "text"
      },
      "source": [
        "<a href=\"https://colab.research.google.com/github/ykitaguchi77/OphthalmologicalOptics/blob/main/Dots.ipynb\" target=\"_parent\"><img src=\"https://colab.research.google.com/assets/colab-badge.svg\" alt=\"Open In Colab\"/></a>"
      ]
    },
    {
      "cell_type": "code",
      "source": [
        "import matplotlib.pyplot as plt\n",
        "import numpy as np\n",
        "\n",
        "def plot_circle(x, y, mask, color, size, ax):\n",
        "    ax.scatter(x[mask], y[mask], color=color, s=size)\n",
        "\n",
        "# 30x30のグリッドを作成\n",
        "x = np.repeat(np.arange(30), 30)\n",
        "y = np.tile(np.arange(30), 30)\n",
        "\n",
        "# 円の直径を設定\n",
        "center_x, center_y = 15, 15\n",
        "radius = 13.5  # 赤い部分の半径\n",
        "\n",
        "# 赤い円のマスクを作成\n",
        "mask = (x - center_x) ** 2 + (y - center_y) ** 2 <= radius ** 2\n",
        "\n",
        "# プロット\n",
        "fig, axs = plt.subplots(1, 2, figsize=(10, 5))\n",
        "\n",
        "# 最初のプロット\n",
        "plot_circle(x, y, ~mask, 'red', 30, axs[0])\n",
        "plot_circle(x, y, mask, 'red', 24, axs[0])\n",
        "axs[0].set_aspect('equal', adjustable='box')\n",
        "axs[0].axis('off')\n",
        "\n",
        "# 2つ目のプロット\n",
        "plot_circle(x, y, ~mask, 'green', 30, axs[1])\n",
        "plot_circle(x, y, mask, 'green', 24, axs[1])\n",
        "axs[1].set_aspect('equal', adjustable='box')\n",
        "axs[1].axis('off')\n",
        "\n",
        "plt.show()\n"
      ],
      "metadata": {
        "id": "6uNdHEkeO65E"
      },
      "execution_count": null,
      "outputs": []
    },
    {
      "cell_type": "code",
      "source": [],
      "metadata": {
        "id": "4sddnVCERXHJ"
      },
      "execution_count": null,
      "outputs": []
    }
  ]
}